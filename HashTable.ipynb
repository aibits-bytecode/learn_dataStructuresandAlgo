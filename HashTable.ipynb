{
 "cells": [
  {
   "cell_type": "code",
   "execution_count": 2,
   "id": "3a57ac70",
   "metadata": {},
   "outputs": [],
   "source": [
    "# creation of\n",
    "stock_prices = {}"
   ]
  },
  {
   "cell_type": "code",
   "execution_count": 3,
   "id": "f49e5592",
   "metadata": {},
   "outputs": [],
   "source": [
    "with open(\"data/hashData.txt\", \"r\") as f:\n",
    "    for line in f:\n",
    "        token = line.split(\",\")\n",
    "        stock_prices[token[0]] = float(token[1])\n",
    "f.close()"
   ]
  },
  {
   "cell_type": "code",
   "execution_count": 4,
   "id": "08949d50",
   "metadata": {},
   "outputs": [
    {
     "data": {
      "text/plain": [
       "{'06-Mar': 321.0,\n",
       " '07-Mar': 321.0,\n",
       " '08-Mar': 321.0,\n",
       " '09-Mar': 321.0,\n",
       " '10-Mar': 321.0,\n",
       " '11-Mar': 321.0}"
      ]
     },
     "execution_count": 4,
     "metadata": {},
     "output_type": "execute_result"
    }
   ],
   "source": [
    "stock_prices"
   ]
  },
  {
   "cell_type": "code",
   "execution_count": 6,
   "id": "679dd024",
   "metadata": {},
   "outputs": [],
   "source": [
    "# Lets get into create hash function\n",
    "# we are going to get the asci value of each character and sum them and mod by 10 \n",
    "def get_hash(key):\n",
    "        h=0\n",
    "        for char in key:\n",
    "            h += ord(char)\n",
    "        return h%100"
   ]
  },
  {
   "cell_type": "code",
   "execution_count": 7,
   "id": "acec7c1d",
   "metadata": {},
   "outputs": [
    {
     "data": {
      "text/plain": [
       "9"
      ]
     },
     "execution_count": 7,
     "metadata": {},
     "output_type": "execute_result"
    }
   ],
   "source": [
    "get_hash('m')"
   ]
  },
  {
   "cell_type": "code",
   "execution_count": null,
   "id": "7eb57e7f",
   "metadata": {},
   "outputs": [],
   "source": []
  }
 ],
 "metadata": {
  "kernelspec": {
   "display_name": "Python 3 (ipykernel)",
   "language": "python",
   "name": "python3"
  },
  "language_info": {
   "codemirror_mode": {
    "name": "ipython",
    "version": 3
   },
   "file_extension": ".py",
   "mimetype": "text/x-python",
   "name": "python",
   "nbconvert_exporter": "python",
   "pygments_lexer": "ipython3",
   "version": "3.9.13"
  }
 },
 "nbformat": 4,
 "nbformat_minor": 5
}
