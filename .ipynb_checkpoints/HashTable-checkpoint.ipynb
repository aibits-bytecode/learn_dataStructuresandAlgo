{
 "cells": [
  {
   "cell_type": "code",
   "execution_count": 2,
   "id": "f4800665",
   "metadata": {},
   "outputs": [],
   "source": [
    "# creation of\n",
    "stock_prices = {}"
   ]
  },
  {
   "cell_type": "code",
   "execution_count": 3,
   "id": "e11cf1dd",
   "metadata": {},
   "outputs": [],
   "source": [
    "with open(\"data/hashData.txt\", \"r\") as f:\n",
    "    for line in f:\n",
    "        token = line.split(\",\")\n",
    "        stock_prices[token[0]] = float(token[1])\n",
    "f.close()"
   ]
  },
  {
   "cell_type": "code",
   "execution_count": 4,
   "id": "1b2e5743",
   "metadata": {},
   "outputs": [
    {
     "data": {
      "text/plain": [
       "{'06-Mar': 321.0,\n",
       " '07-Mar': 321.0,\n",
       " '08-Mar': 321.0,\n",
       " '09-Mar': 321.0,\n",
       " '10-Mar': 321.0,\n",
       " '11-Mar': 321.0}"
      ]
     },
     "execution_count": 4,
     "metadata": {},
     "output_type": "execute_result"
    }
   ],
   "source": [
    "stock_prices"
   ]
  },
  {
   "cell_type": "code",
   "execution_count": null,
   "id": "093744c2",
   "metadata": {},
   "outputs": [],
   "source": []
  }
 ],
 "metadata": {
  "kernelspec": {
   "display_name": "Python 3 (ipykernel)",
   "language": "python",
   "name": "python3"
  },
  "language_info": {
   "codemirror_mode": {
    "name": "ipython",
    "version": 3
   },
   "file_extension": ".py",
   "mimetype": "text/x-python",
   "name": "python",
   "nbconvert_exporter": "python",
   "pygments_lexer": "ipython3",
   "version": "3.9.13"
  }
 },
 "nbformat": 4,
 "nbformat_minor": 5
}
