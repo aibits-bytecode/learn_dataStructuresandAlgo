{
 "cells": [
  {
   "cell_type": "code",
   "execution_count": 6,
   "id": "5af92eb8",
   "metadata": {},
   "outputs": [],
   "source": [
    "class BinaryTree:\n",
    "\n",
    "    def __init__(self, data):\n",
    "        self.data = data\n",
    "        self.left = None\n",
    "        self.right = None\n",
    "\n",
    "    # in here we are adding numbers only\n",
    "    def add_child(self,data):\n",
    "        if data == self.data:\n",
    "            return\n",
    "        if data < self.data:\n",
    "            if self.left:\n",
    "                self.left.add_child(data)\n",
    "            else:\n",
    "                self.left = BinaryTree(data)\n",
    "        else:\n",
    "            if self.right:\n",
    "                self.right.add_child(data)\n",
    "            else:\n",
    "                self.right = BinaryTree(data)\n",
    "\n",
    "    def tree_traverse(self):\n",
    "        elements = []\n",
    "\n",
    "        # first go on left tree\n",
    "        # visit base node\n",
    "        # go on right sub tree\n",
    "\n",
    "        if self.left:\n",
    "            elements += self.left.tree_traverse()\n",
    "\n",
    "        elements.append(self.data)\n",
    "\n",
    "        if self.right:\n",
    "            elements += self.right.tree_traverse()\n",
    "\n",
    "        return elements\n",
    "\n",
    "def Build_BinaryTree(elements):\n",
    "    bt = BinaryTree(elements.pop())\n",
    "    \n",
    "\n",
    "\n",
    "    \n",
    "\n"
   ]
  },
  {
   "cell_type": "code",
   "execution_count": 7,
   "id": "ede3289c",
   "metadata": {},
   "outputs": [],
   "source": [
    "numbers = [12, 10, 20 ,20, 32, 43]"
   ]
  },
  {
   "cell_type": "code",
   "execution_count": 9,
   "id": "0741adee",
   "metadata": {},
   "outputs": [
    {
     "name": "stdout",
     "output_type": "stream",
     "text": [
      "<__main__.BinaryTree object at 0x111bb8c70>\n"
     ]
    }
   ],
   "source": [
    "Bd = Build_BinaryTree(numbers)"
   ]
  },
  {
   "cell_type": "code",
   "execution_count": 4,
   "id": "f39577cd",
   "metadata": {},
   "outputs": [],
   "source": []
  },
  {
   "cell_type": "code",
   "execution_count": 5,
   "id": "a33c9be4",
   "metadata": {},
   "outputs": [],
   "source": []
  },
  {
   "cell_type": "code",
   "execution_count": null,
   "id": "a2080ffd",
   "metadata": {},
   "outputs": [],
   "source": []
  }
 ],
 "metadata": {
  "kernelspec": {
   "display_name": "Python 3 (ipykernel)",
   "language": "python",
   "name": "python3"
  },
  "language_info": {
   "codemirror_mode": {
    "name": "ipython",
    "version": 3
   },
   "file_extension": ".py",
   "mimetype": "text/x-python",
   "name": "python",
   "nbconvert_exporter": "python",
   "pygments_lexer": "ipython3",
   "version": "3.9.13"
  }
 },
 "nbformat": 4,
 "nbformat_minor": 5
}
