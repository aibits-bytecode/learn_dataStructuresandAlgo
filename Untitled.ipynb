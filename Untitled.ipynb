{
 "cells": [
  {
   "cell_type": "code",
   "execution_count": 1,
   "id": "863b7820",
   "metadata": {},
   "outputs": [],
   "source": [
    "from collections import deque\n",
    "class Queue:\n",
    "\n",
    "    def __init__(self):\n",
    "        self.collection = deque()\n",
    "\n",
    "    def insert(self, value):\n",
    "        self.collection.appendleft(value)\n",
    "\n",
    "    def pop(self):\n",
    "        self.collection.pop()\n",
    "\n",
    "    def peek(self):\n",
    "        self.collection[len(self.collection)-1]"
   ]
  },
  {
   "cell_type": "code",
   "execution_count": 2,
   "id": "657812a7",
   "metadata": {},
   "outputs": [],
   "source": [
    "q = Queue()\n",
    "\n",
    "q.insert(\"link1\")\n",
    "q.insert(\"link2\")\n",
    "q.insert(\"link3\")\n",
    "q.insert(\"link4\")\n",
    "q.insert(\"link5\")"
   ]
  },
  {
   "cell_type": "code",
   "execution_count": 3,
   "id": "3cf3bdc3",
   "metadata": {},
   "outputs": [
    {
     "data": {
      "text/plain": [
       "<__main__.Queue at 0x111bb9a90>"
      ]
     },
     "execution_count": 3,
     "metadata": {},
     "output_type": "execute_result"
    }
   ],
   "source": [
    "q"
   ]
  },
  {
   "cell_type": "code",
   "execution_count": 4,
   "id": "d8477262",
   "metadata": {},
   "outputs": [],
   "source": [
    "q.pop()"
   ]
  },
  {
   "cell_type": "code",
   "execution_count": 5,
   "id": "1e6c8f3c",
   "metadata": {},
   "outputs": [],
   "source": [
    "q.peek()"
   ]
  },
  {
   "cell_type": "code",
   "execution_count": null,
   "id": "babcafe7",
   "metadata": {},
   "outputs": [],
   "source": []
  }
 ],
 "metadata": {
  "kernelspec": {
   "display_name": "Python 3 (ipykernel)",
   "language": "python",
   "name": "python3"
  },
  "language_info": {
   "codemirror_mode": {
    "name": "ipython",
    "version": 3
   },
   "file_extension": ".py",
   "mimetype": "text/x-python",
   "name": "python",
   "nbconvert_exporter": "python",
   "pygments_lexer": "ipython3",
   "version": "3.9.13"
  }
 },
 "nbformat": 4,
 "nbformat_minor": 5
}
